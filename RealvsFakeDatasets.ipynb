{
 "cells": [
  {
   "cell_type": "code",
   "execution_count": 1,
   "id": "9a652284-85e1-4f05-b599-ef66ea90aeb5",
   "metadata": {
    "tags": []
   },
   "outputs": [
    {
     "ename": "SyntaxError",
     "evalue": "invalid syntax (230402498.py, line 1)",
     "output_type": "error",
     "traceback": [
      "\u001b[1;36m  Cell \u001b[1;32mIn[1], line 1\u001b[1;36m\u001b[0m\n\u001b[1;33m    pip3 install torch\u001b[0m\n\u001b[1;37m         ^\u001b[0m\n\u001b[1;31mSyntaxError\u001b[0m\u001b[1;31m:\u001b[0m invalid syntax\n"
     ]
    }
   ],
   "source": [
    "pip3 install torch"
   ]
  },
  {
   "cell_type": "code",
   "execution_count": null,
   "id": "8b7aca13-ea10-4479-9479-07c27fa89850",
   "metadata": {
    "tags": []
   },
   "outputs": [],
   "source": [
    "pip uninstall torch"
   ]
  },
  {
   "cell_type": "code",
   "execution_count": null,
   "id": "3a575092-72c0-4b38-b31b-8155383fd10b",
   "metadata": {
    "tags": []
   },
   "outputs": [],
   "source": [
    "pip uninstall TBB"
   ]
  },
  {
   "cell_type": "code",
   "execution_count": null,
   "id": "bd11082f-8d8e-462c-889b-95198e0ac332",
   "metadata": {
    "tags": []
   },
   "outputs": [],
   "source": [
    "pip uninstall TBB 0.2"
   ]
  },
  {
   "cell_type": "code",
   "execution_count": null,
   "id": "44f804a0-bdf8-426b-b3b6-622373218fbd",
   "metadata": {
    "tags": []
   },
   "outputs": [],
   "source": [
    "pip install --ignore-installed torch"
   ]
  },
  {
   "cell_type": "code",
   "execution_count": 10,
   "id": "67cc482d-4ddb-4d01-b5ef-25bd43e16861",
   "metadata": {
    "tags": []
   },
   "outputs": [],
   "source": [
    "import torch\n",
    "import torch.nn as nn"
   ]
  },
  {
   "cell_type": "code",
   "execution_count": 11,
   "id": "4235a8b1-fc92-476b-a95f-edc51a918126",
   "metadata": {},
   "outputs": [],
   "source": [
    "from torch.utils.data import DataLoader"
   ]
  },
  {
   "cell_type": "code",
   "execution_count": 12,
   "id": "8fb899a9-5974-4f7d-9b6a-c2fe323396ca",
   "metadata": {
    "tags": []
   },
   "outputs": [],
   "source": [
    "from torchvision import datasets,transforms"
   ]
  },
  {
   "cell_type": "code",
   "execution_count": 17,
   "id": "ba8d116a-651c-4247-b787-4cbe8c5fcdaa",
   "metadata": {
    "tags": []
   },
   "outputs": [],
   "source": [
    "import zipfile\n",
    "import os\n",
    "\n",
    "# Path to the zip file\n",
    "zip_file_path = 'train.zip'\n",
    "extracted_path = 'extracted_train'\n",
    "\n",
    "# Extract the zip file\n",
    "with zipfile.ZipFile(zip_file_path, 'r') as zip_ref:\n",
    "    zip_ref.extractall(extracted_path)\n"
   ]
  },
  {
   "cell_type": "code",
   "execution_count": 18,
   "id": "6d6dc6ee-cbbf-4569-ac36-895a4d0bd4e2",
   "metadata": {
    "tags": []
   },
   "outputs": [],
   "source": [
    "transform = transforms.Compose([\n",
    "    transforms.Resize((128, 128)),  # Resize images to 128x128\n",
    "    transforms.ToTensor(),          # Convert images to PyTorch tensors\n",
    "    transforms.Normalize((0.5,), (0.5,))  # Normalize images\n",
    "])"
   ]
  },
  {
   "cell_type": "code",
   "execution_count": 27,
   "id": "cadadc55-b489-4d33-8238-4a6ef76a6a6e",
   "metadata": {
    "tags": []
   },
   "outputs": [],
   "source": [
    "train_dataset = datasets.ImageFolder(root='extracted_train', transform=transform)\n",
    "train_loader = DataLoader(dataset=train_dataset, batch_size=128, shuffle=True, num_workers=4, pin_memory=True)\n"
   ]
  },
  {
   "cell_type": "code",
   "execution_count": 28,
   "id": "56584160-f861-40c5-94cc-749349c7424f",
   "metadata": {},
   "outputs": [],
   "source": [
    "\n",
    "\n",
    "# Path to the zip file\n",
    "zip_file_path = 'test.zip'\n",
    "extracted_path = 'extracted_test'\n",
    "\n",
    "# Extract the zip file\n",
    "with zipfile.ZipFile(zip_file_path, 'r') as zip_ref:\n",
    "    zip_ref.extractall(extracted_path)\n"
   ]
  },
  {
   "cell_type": "code",
   "execution_count": 29,
   "id": "fbdeaa6f-2c84-4ef1-aecf-48e5782b3745",
   "metadata": {
    "tags": []
   },
   "outputs": [],
   "source": [
    "test_dataset = datasets.ImageFolder(root= 'extracted_test', transform=transform)\n",
    "test_loader = DataLoader(dataset=test_dataset, batch_size=128, shuffle=True, num_workers=4, pin_memory=True)"
   ]
  },
  {
   "cell_type": "code",
   "execution_count": 30,
   "id": "f16d9c0a-d04c-4b39-b31b-1feeef6018cf",
   "metadata": {
    "tags": []
   },
   "outputs": [
    {
     "data": {
      "text/plain": [
       "'for images, labels in train_loader:\\n    print(images.size(),labels.size())'"
      ]
     },
     "execution_count": 30,
     "metadata": {},
     "output_type": "execute_result"
    }
   ],
   "source": [
    "'''for images, labels in train_loader:\n",
    "    print(images.size(),labels.size())'''"
   ]
  },
  {
   "cell_type": "code",
   "execution_count": 31,
   "id": "eed76824-9c6c-46ce-97fd-5ee794b76541",
   "metadata": {
    "tags": []
   },
   "outputs": [],
   "source": [
    "import torch.nn as nn"
   ]
  },
  {
   "cell_type": "code",
   "execution_count": 32,
   "id": "20263f06-1b49-4b10-b271-3cd8d2794130",
   "metadata": {},
   "outputs": [],
   "source": [
    "class SimplifiedCNN(nn.Module):\n",
    "    def __init__(self):\n",
    "        super(SimplifiedCNN, self).__init__()\n",
    "        self.cnn1 = nn.Conv2d(3, 16, kernel_size=(3, 3), stride=1, padding=1)\n",
    "        self.act1 = nn.ReLU()\n",
    "        \n",
    "        self.cnn2 = nn.Conv2d(16, 32, kernel_size=(3, 3), stride=1, padding=1)\n",
    "        self.act2 = nn.ReLU()\n",
    "        self.pool2 = nn.MaxPool2d(kernel_size=(2, 2))\n",
    "        \n",
    "        self.flat = nn.Flatten()\n",
    " \n",
    "        self.fc3 = nn.Linear(32 * 64 * 64, 128)\n",
    "        self.act3 = nn.ReLU()\n",
    " \n",
    "        self.fc4 = nn.Linear(128, 10)\n",
    "    \n",
    "    def forward(self, x):\n",
    "        x = self.act1(self.cnn1(x))\n",
    "        x = self.act2(self.cnn2(x))\n",
    "        x = self.pool2(x)\n",
    "        x = self.flat(x)\n",
    "        x = self.act3(self.fc3(x))\n",
    "        x = self.fc4(x)\n",
    "        return x\n"
   ]
  },
  {
   "cell_type": "code",
   "execution_count": 33,
   "id": "f3303f41-07b8-4a9f-b427-95c7ddac4a3d",
   "metadata": {
    "tags": []
   },
   "outputs": [],
   "source": [
    "import torch.optim as optim\n",
    "device = torch.device(\"cpu\")\n",
    "model = SimplifiedCNN().to(device)\n",
    "criterion = nn.CrossEntropyLoss()\n",
    "optimizer = optim.Adam(model.parameters(), lr=0.01)\n"
   ]
  },
  {
   "cell_type": "code",
   "execution_count": 35,
   "id": "f34f978f-ae0f-423a-8d26-493583709066",
   "metadata": {
    "tags": []
   },
   "outputs": [
    {
     "name": "stdout",
     "output_type": "stream",
     "text": [
      "Epoch 1, Batch 10, Loss: 0.000\n",
      "Epoch 1, Batch 20, Loss: 0.000\n",
      "Epoch 1, Batch 30, Loss: 0.000\n",
      "Epoch 1, Batch 40, Loss: 0.000\n",
      "Epoch 1, Batch 50, Loss: 0.000\n",
      "Epoch 1, Batch 60, Loss: 0.000\n",
      "Epoch 1, Batch 70, Loss: 0.000\n",
      "Epoch 1, Batch 80, Loss: 0.000\n",
      "Epoch 1, Batch 90, Loss: 0.000\n",
      "Epoch 1, Batch 100, Loss: 0.000\n",
      "Epoch 1, Batch 110, Loss: 0.000\n",
      "Epoch 1, Batch 120, Loss: 0.000\n",
      "Epoch 1, Batch 130, Loss: 0.000\n",
      "Epoch 1, Batch 140, Loss: 0.000\n",
      "Epoch 1, Batch 150, Loss: 0.000\n",
      "Epoch 1, Batch 160, Loss: 0.000\n",
      "Epoch 1, Batch 170, Loss: 0.000\n",
      "Epoch 1, Batch 180, Loss: 0.000\n",
      "Epoch 1, Batch 190, Loss: 0.000\n",
      "Epoch 1, Batch 200, Loss: 0.000\n",
      "Epoch 1, Batch 210, Loss: 0.000\n",
      "Epoch 1, Batch 220, Loss: 0.000\n",
      "Epoch 1, Batch 230, Loss: 0.000\n",
      "Epoch 1, Batch 240, Loss: 0.000\n",
      "Epoch 1, Batch 250, Loss: 0.000\n",
      "Epoch 1, Batch 260, Loss: 0.000\n",
      "Epoch 1, Batch 270, Loss: 0.000\n",
      "Epoch 1, Batch 280, Loss: 0.000\n",
      "Epoch 1, Batch 290, Loss: 0.000\n",
      "Epoch 1, Batch 300, Loss: 0.000\n",
      "Epoch 1, Batch 310, Loss: 0.000\n",
      "Epoch 1, Batch 320, Loss: 0.000\n",
      "Epoch 1, Batch 330, Loss: 0.000\n",
      "Epoch 1, Batch 340, Loss: 0.000\n",
      "Epoch 1, Batch 350, Loss: 0.000\n",
      "Epoch 1, Batch 360, Loss: 0.000\n",
      "Epoch 1, Batch 370, Loss: 0.000\n",
      "Epoch 1, Batch 380, Loss: 0.000\n",
      "Epoch 1, Batch 390, Loss: 0.000\n",
      "Epoch 1, Batch 400, Loss: 0.000\n",
      "Epoch 1, Batch 410, Loss: 0.000\n",
      "Epoch 1, Batch 420, Loss: 0.000\n",
      "Epoch 1, Batch 430, Loss: 0.000\n",
      "Epoch 1, Batch 440, Loss: 0.000\n",
      "Epoch 1, Batch 450, Loss: 0.000\n",
      "Epoch 1, Batch 460, Loss: 0.000\n",
      "Epoch 1, Batch 470, Loss: 0.000\n",
      "Epoch 1, Batch 480, Loss: 0.000\n",
      "Epoch 1, Batch 490, Loss: 0.000\n",
      "Epoch 1, Batch 500, Loss: 0.000\n",
      "Epoch 1, Batch 510, Loss: 0.000\n",
      "Epoch 1, Batch 520, Loss: 0.000\n",
      "Epoch 1, Batch 530, Loss: 0.000\n",
      "Epoch 1, Batch 540, Loss: 0.000\n",
      "Epoch 1, Batch 550, Loss: 0.000\n",
      "Epoch 1, Batch 560, Loss: 0.000\n",
      "Epoch 1, Batch 570, Loss: 0.000\n",
      "Epoch 1, Batch 580, Loss: 0.000\n",
      "Epoch 1, Batch 590, Loss: 0.000\n",
      "Epoch 1, Batch 600, Loss: 0.000\n",
      "Epoch 1, Batch 610, Loss: 0.000\n",
      "Epoch 1, Batch 620, Loss: 0.000\n",
      "Epoch 1, Batch 630, Loss: 0.000\n",
      "Epoch 1, Batch 640, Loss: 0.000\n",
      "Epoch 1, Batch 650, Loss: 0.000\n",
      "Epoch 1, Batch 660, Loss: 0.000\n",
      "Epoch 1, Batch 670, Loss: 0.000\n",
      "Epoch 1, Batch 680, Loss: 0.000\n",
      "Epoch 1, Batch 690, Loss: 0.000\n",
      "Epoch 1, Batch 700, Loss: 0.000\n",
      "Epoch 1, Batch 710, Loss: 0.000\n",
      "Epoch 1, Batch 720, Loss: 0.000\n",
      "Epoch 1, Batch 730, Loss: 0.000\n",
      "Epoch 1, Batch 740, Loss: 0.000\n",
      "Epoch 1, Batch 750, Loss: 0.000\n",
      "Epoch 1, Batch 760, Loss: 0.000\n",
      "Epoch 1, Batch 770, Loss: 0.000\n",
      "Epoch 1, Batch 780, Loss: 0.000\n",
      "Finished Training\n"
     ]
    }
   ],
   "source": [
    "num_epochs = 1\n",
    "for epoch in range(num_epochs):\n",
    "    running_loss = 0.0\n",
    "    for i, data in enumerate(train_loader, 0):\n",
    "        inputs, labels = data\n",
    "        inputs, labels = inputs.to(device), labels.to(device)\n",
    "\n",
    "        optimizer.zero_grad()\n",
    "\n",
    "        outputs = model(inputs)\n",
    "        loss = criterion(outputs, labels)\n",
    "        loss.backward()\n",
    "        optimizer.step()\n",
    "\n",
    "        running_loss += loss.item()\n",
    "        if (i + 1) % 10 == 0:\n",
    "            print(f'Epoch {epoch + 1}, Batch {i + 1}, Loss: {running_loss / 10:.3f}')\n",
    "            running_loss = 0.0\n",
    "\n",
    "print('Finished Training')"
   ]
  },
  {
   "cell_type": "code",
   "execution_count": 36,
   "id": "a46d635c-fac8-4a71-8e8a-93178b2c19b2",
   "metadata": {},
   "outputs": [
    {
     "name": "stdout",
     "output_type": "stream",
     "text": [
      "Accuracy of the model on the test images: 100.00%\n"
     ]
    }
   ],
   "source": [
    "model.eval()\n",
    "correct = 0\n",
    "total = 0\n",
    "with torch.no_grad():\n",
    "    for data in test_loader:\n",
    "        images, labels = data\n",
    "        images, labels = images.to(device), labels.to(device)\n",
    "        outputs = model(images)\n",
    "        _, predicted = torch.max(outputs.data, 1)\n",
    "        total += labels.size(0)\n",
    "        correct += (predicted == labels).sum().item()\n",
    "\n",
    "accuracy = 100 * correct / total\n",
    "print(f'Accuracy of the model on the test images: {accuracy:.2f}%')"
   ]
  },
  {
   "cell_type": "code",
   "execution_count": 37,
   "id": "b24e60a6-d85c-4f01-ae26-d216443e87b8",
   "metadata": {
    "tags": []
   },
   "outputs": [
    {
     "name": "stdout",
     "output_type": "stream",
     "text": [
      "Model saved to simplified_cnn.pth\n"
     ]
    }
   ],
   "source": [
    "model_path = \"simplified_cnn.pth\"\n",
    "torch.save(model.state_dict(), model_path)\n",
    "print(f'Model saved to {model_path}')"
   ]
  },
  {
   "cell_type": "code",
   "execution_count": null,
   "id": "54f1d2c5-739b-4930-8cf1-0b90ab3577d0",
   "metadata": {},
   "outputs": [],
   "source": []
  }
 ],
 "metadata": {
  "kernelspec": {
   "display_name": "Python 3 (ipykernel)",
   "language": "python",
   "name": "python3"
  },
  "language_info": {
   "codemirror_mode": {
    "name": "ipython",
    "version": 3
   },
   "file_extension": ".py",
   "mimetype": "text/x-python",
   "name": "python",
   "nbconvert_exporter": "python",
   "pygments_lexer": "ipython3",
   "version": "3.11.5"
  }
 },
 "nbformat": 4,
 "nbformat_minor": 5
}
